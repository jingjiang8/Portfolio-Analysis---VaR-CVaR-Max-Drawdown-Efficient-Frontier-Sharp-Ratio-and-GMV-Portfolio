{
 "cells": [
  {
   "cell_type": "code",
   "execution_count": 2,
   "metadata": {
    "scrolled": true
   },
   "outputs": [],
   "source": [
    "import numpy as np\n",
    "import pandas as pd\n",
    "import matplotlib.pyplot as plt\n",
    "from datetime import datetime\n",
    "import seaborn as sns\n",
    "import yfinance as yf"
   ]
  },
  {
   "cell_type": "code",
   "execution_count": 3,
   "metadata": {},
   "outputs": [],
   "source": [
    "stock_list=['AAPL','ASML','COST','ISRG','LMT','JPM','QCOM','JNJ']\n",
    "end=datetime.now()\n",
    "start=datetime(end.year-10, end.month, end.day)"
   ]
  },
  {
   "cell_type": "code",
   "execution_count": 4,
   "metadata": {},
   "outputs": [
    {
     "name": "stdout",
     "output_type": "stream",
     "text": [
      "[*********************100%***********************]  1 of 1 completed\n",
      "[*********************100%***********************]  1 of 1 completed\n",
      "[*********************100%***********************]  1 of 1 completed\n",
      "[*********************100%***********************]  1 of 1 completed\n",
      "[*********************100%***********************]  1 of 1 completed\n",
      "[*********************100%***********************]  1 of 1 completed\n",
      "[*********************100%***********************]  1 of 1 completed\n",
      "[*********************100%***********************]  1 of 1 completed\n"
     ]
    },
    {
     "data": {
      "text/html": [
       "<div>\n",
       "<style scoped>\n",
       "    .dataframe tbody tr th:only-of-type {\n",
       "        vertical-align: middle;\n",
       "    }\n",
       "\n",
       "    .dataframe tbody tr th {\n",
       "        vertical-align: top;\n",
       "    }\n",
       "\n",
       "    .dataframe thead th {\n",
       "        text-align: right;\n",
       "    }\n",
       "</style>\n",
       "<table border=\"1\" class=\"dataframe\">\n",
       "  <thead>\n",
       "    <tr style=\"text-align: right;\">\n",
       "      <th></th>\n",
       "      <th>Open</th>\n",
       "      <th>High</th>\n",
       "      <th>Low</th>\n",
       "      <th>Close</th>\n",
       "      <th>Adj Close</th>\n",
       "      <th>Volume</th>\n",
       "      <th>Ticker</th>\n",
       "    </tr>\n",
       "    <tr>\n",
       "      <th>Date</th>\n",
       "      <th></th>\n",
       "      <th></th>\n",
       "      <th></th>\n",
       "      <th></th>\n",
       "      <th></th>\n",
       "      <th></th>\n",
       "      <th></th>\n",
       "    </tr>\n",
       "  </thead>\n",
       "  <tbody>\n",
       "    <tr>\n",
       "      <th>2013-01-24 00:00:00-05:00</th>\n",
       "      <td>16.428572</td>\n",
       "      <td>16.633215</td>\n",
       "      <td>16.080357</td>\n",
       "      <td>16.089287</td>\n",
       "      <td>13.836589</td>\n",
       "      <td>1460852400</td>\n",
       "      <td>AAPL</td>\n",
       "    </tr>\n",
       "    <tr>\n",
       "      <th>2013-01-25 00:00:00-05:00</th>\n",
       "      <td>16.131786</td>\n",
       "      <td>16.293928</td>\n",
       "      <td>15.535714</td>\n",
       "      <td>15.710000</td>\n",
       "      <td>13.510409</td>\n",
       "      <td>1208026400</td>\n",
       "      <td>AAPL</td>\n",
       "    </tr>\n",
       "    <tr>\n",
       "      <th>2013-01-28 00:00:00-05:00</th>\n",
       "      <td>15.636786</td>\n",
       "      <td>16.186071</td>\n",
       "      <td>15.566429</td>\n",
       "      <td>16.065357</td>\n",
       "      <td>13.816009</td>\n",
       "      <td>785517600</td>\n",
       "      <td>AAPL</td>\n",
       "    </tr>\n",
       "    <tr>\n",
       "      <th>2013-01-29 00:00:00-05:00</th>\n",
       "      <td>16.375000</td>\n",
       "      <td>16.435715</td>\n",
       "      <td>16.147142</td>\n",
       "      <td>16.366785</td>\n",
       "      <td>14.075233</td>\n",
       "      <td>571158000</td>\n",
       "      <td>AAPL</td>\n",
       "    </tr>\n",
       "    <tr>\n",
       "      <th>2013-01-30 00:00:00-05:00</th>\n",
       "      <td>16.321428</td>\n",
       "      <td>16.521429</td>\n",
       "      <td>16.232143</td>\n",
       "      <td>16.315357</td>\n",
       "      <td>14.031008</td>\n",
       "      <td>417155200</td>\n",
       "      <td>AAPL</td>\n",
       "    </tr>\n",
       "  </tbody>\n",
       "</table>\n",
       "</div>"
      ],
      "text/plain": [
       "                                Open       High        Low      Close  \\\n",
       "Date                                                                    \n",
       "2013-01-24 00:00:00-05:00  16.428572  16.633215  16.080357  16.089287   \n",
       "2013-01-25 00:00:00-05:00  16.131786  16.293928  15.535714  15.710000   \n",
       "2013-01-28 00:00:00-05:00  15.636786  16.186071  15.566429  16.065357   \n",
       "2013-01-29 00:00:00-05:00  16.375000  16.435715  16.147142  16.366785   \n",
       "2013-01-30 00:00:00-05:00  16.321428  16.521429  16.232143  16.315357   \n",
       "\n",
       "                           Adj Close      Volume Ticker  \n",
       "Date                                                     \n",
       "2013-01-24 00:00:00-05:00  13.836589  1460852400   AAPL  \n",
       "2013-01-25 00:00:00-05:00  13.510409  1208026400   AAPL  \n",
       "2013-01-28 00:00:00-05:00  13.816009   785517600   AAPL  \n",
       "2013-01-29 00:00:00-05:00  14.075233   571158000   AAPL  \n",
       "2013-01-30 00:00:00-05:00  14.031008   417155200   AAPL  "
      ]
     },
     "execution_count": 4,
     "metadata": {},
     "output_type": "execute_result"
    }
   ],
   "source": [
    "df_stock=pd.DataFrame()\n",
    "for stock in stock_list:\n",
    "    stockData=yf.download(stock, start, end)\n",
    "    stockData['Ticker']=stock\n",
    "    df_stock=pd.concat([df_stock, stockData])\n",
    "df_stock.head()  "
   ]
  },
  {
   "cell_type": "code",
   "execution_count": 5,
   "metadata": {},
   "outputs": [],
   "source": [
    "df_stock['Daily Return']=df_stock['Adj Close'].pct_change()"
   ]
  },
  {
   "cell_type": "code",
   "execution_count": 6,
   "metadata": {},
   "outputs": [],
   "source": [
    "df_stock.dropna(inplace=True)"
   ]
  },
  {
   "cell_type": "code",
   "execution_count": 7,
   "metadata": {},
   "outputs": [],
   "source": [
    "df_return=df_stock[['Daily Return','Ticker']].pivot_table(\n",
    "    'Daily Return', index=df_stock.index, columns='Ticker')"
   ]
  },
  {
   "cell_type": "code",
   "execution_count": 8,
   "metadata": {},
   "outputs": [
    {
     "data": {
      "text/plain": [
       "Ticker\n",
       "AAPL    0.018124\n",
       "ASML    0.024164\n",
       "COST    0.021873\n",
       "ISRG    0.026758\n",
       "JNJ     0.015982\n",
       "JPM     0.024972\n",
       "LMT     0.020152\n",
       "QCOM    0.025365\n",
       "dtype: float64"
      ]
     },
     "execution_count": 8,
     "metadata": {},
     "output_type": "execute_result"
    }
   ],
   "source": [
    "#std using n-1\n",
    "df_return.std()"
   ]
  },
  {
   "cell_type": "code",
   "execution_count": 9,
   "metadata": {},
   "outputs": [
    {
     "data": {
      "text/plain": [
       "Ticker\n",
       "AAPL    0.018121\n",
       "ASML    0.024160\n",
       "COST    0.021868\n",
       "ISRG    0.026753\n",
       "JNJ     0.015979\n",
       "JPM     0.024967\n",
       "LMT     0.020148\n",
       "QCOM    0.025360\n",
       "dtype: float64"
      ]
     },
     "execution_count": 9,
     "metadata": {},
     "output_type": "execute_result"
    }
   ],
   "source": [
    "#when calc mean, using n-1\n",
    "deviation=df_return-df_return.mean()\n",
    "squared_deviation=deviation**2\n",
    "variance=squared_deviation.mean()\n",
    "volatility=np.sqrt(variance)\n",
    "volatility"
   ]
  },
  {
   "cell_type": "code",
   "execution_count": 10,
   "metadata": {},
   "outputs": [
    {
     "data": {
      "text/plain": [
       "Ticker\n",
       "AAPL    0.018117\n",
       "ASML    0.024164\n",
       "COST    0.021873\n",
       "ISRG    0.026758\n",
       "JNJ     0.015982\n",
       "JPM     0.024972\n",
       "LMT     0.020152\n",
       "QCOM    0.025365\n",
       "dtype: float64"
      ]
     },
     "execution_count": 10,
     "metadata": {},
     "output_type": "execute_result"
    }
   ],
   "source": [
    "deviation=df_return-df_return.mean()\n",
    "squared_deviation=deviation**2\n",
    "variance=squared_deviation.sum()/(df_return.shape[0]-1)\n",
    "volatility=np.sqrt(variance)\n",
    "volatility"
   ]
  },
  {
   "cell_type": "code",
   "execution_count": 11,
   "metadata": {},
   "outputs": [
    {
     "data": {
      "text/plain": [
       "Ticker\n",
       "AAPL    0.287599\n",
       "ASML    0.383599\n",
       "COST    0.347218\n",
       "ISRG    0.424775\n",
       "JNJ     0.253706\n",
       "JPM     0.396422\n",
       "LMT     0.319907\n",
       "QCOM    0.402656\n",
       "dtype: float64"
      ]
     },
     "execution_count": 11,
     "metadata": {},
     "output_type": "execute_result"
    }
   ],
   "source": [
    "annualized_volatility=volatility*np.sqrt(252)\n",
    "annualized_volatility"
   ]
  },
  {
   "cell_type": "code",
   "execution_count": 12,
   "metadata": {},
   "outputs": [
    {
     "data": {
      "text/plain": [
       "Ticker\n",
       "AAPL    0.287714\n",
       "ASML    0.383599\n",
       "COST    0.347218\n",
       "ISRG    0.424775\n",
       "JNJ     0.253706\n",
       "JPM     0.396422\n",
       "LMT     0.319907\n",
       "QCOM    0.402656\n",
       "dtype: float64"
      ]
     },
     "execution_count": 12,
     "metadata": {},
     "output_type": "execute_result"
    }
   ],
   "source": [
    "#convert daily volatility to annualized vatility\n",
    "df_return.std()*np.sqrt(252)"
   ]
  },
  {
   "cell_type": "code",
   "execution_count": 13,
   "metadata": {},
   "outputs": [
    {
     "data": {
      "text/plain": [
       "Ticker\n",
       "AAPL    0.261633\n",
       "ASML    0.168568\n",
       "COST   -0.030368\n",
       "ISRG   -0.062587\n",
       "JNJ     0.025488\n",
       "JPM    -0.110611\n",
       "LMT     0.056724\n",
       "QCOM   -0.005944\n",
       "dtype: float64"
      ]
     },
     "execution_count": 13,
     "metadata": {},
     "output_type": "execute_result"
    }
   ],
   "source": [
    "annualized_return=(df_return+1).prod()**(252/df_return.shape[0])-1\n",
    "annualized_return"
   ]
  },
  {
   "cell_type": "code",
   "execution_count": 14,
   "metadata": {},
   "outputs": [
    {
     "data": {
      "text/plain": [
       "Ticker\n",
       "AAPL    0.000923\n",
       "ASML    0.000618\n",
       "COST   -0.000122\n",
       "ISRG   -0.000256\n",
       "JNJ     0.000100\n",
       "JPM    -0.000465\n",
       "LMT     0.000219\n",
       "QCOM   -0.000024\n",
       "dtype: float64"
      ]
     },
     "execution_count": 14,
     "metadata": {},
     "output_type": "execute_result"
    }
   ],
   "source": [
    "return_per_day=(df_return+1).prod()**(1/df_return.shape[0])-1\n",
    "return_per_day"
   ]
  },
  {
   "cell_type": "code",
   "execution_count": 15,
   "metadata": {},
   "outputs": [
    {
     "data": {
      "text/plain": [
       "Ticker\n",
       "AAPL    0.261633\n",
       "ASML    0.168568\n",
       "COST   -0.030368\n",
       "ISRG   -0.062587\n",
       "JNJ     0.025488\n",
       "JPM    -0.110611\n",
       "LMT     0.056724\n",
       "QCOM   -0.005944\n",
       "dtype: float64"
      ]
     },
     "execution_count": 15,
     "metadata": {},
     "output_type": "execute_result"
    }
   ],
   "source": [
    "annulized_return=(return_per_day+1)**252-1\n",
    "annulized_return"
   ]
  },
  {
   "cell_type": "code",
   "execution_count": 16,
   "metadata": {},
   "outputs": [
    {
     "data": {
      "text/plain": [
       "Ticker\n",
       "AAPL    0.805402\n",
       "ASML    0.361230\n",
       "COST   -0.173862\n",
       "ISRG   -0.217968\n",
       "JNJ    -0.017785\n",
       "JPM    -0.354700\n",
       "LMT     0.083536\n",
       "QCOM   -0.089267\n",
       "dtype: float64"
      ]
     },
     "execution_count": 16,
     "metadata": {},
     "output_type": "execute_result"
    }
   ],
   "source": [
    "riskfree_rate=0.03\n",
    "excess_return=annulized_return-riskfree_rate\n",
    "sharp_ratio=excess_return/annualized_volatility\n",
    "sharp_ratio"
   ]
  },
  {
   "cell_type": "markdown",
   "metadata": {},
   "source": [
    "#### Max Drawdown is the max loss from the previous high to subsequent low; buy at it's highest value and sell at the bottom"
   ]
  },
  {
   "cell_type": "code",
   "execution_count": 17,
   "metadata": {
    "scrolled": true
   },
   "outputs": [],
   "source": [
    "df_monthly_return=df_return.resample('M').last()"
   ]
  },
  {
   "cell_type": "code",
   "execution_count": 18,
   "metadata": {},
   "outputs": [],
   "source": [
    "df_monthly_return.index=pd.to_datetime(df_monthly_return.index,format='%Y%m')"
   ]
  },
  {
   "cell_type": "code",
   "execution_count": 19,
   "metadata": {
    "scrolled": true
   },
   "outputs": [
    {
     "name": "stderr",
     "output_type": "stream",
     "text": [
      "/Users/jingjiang/opt/anaconda3/lib/python3.8/site-packages/pandas/core/arrays/datetimes.py:1101: UserWarning: Converting to PeriodArray/Index representation will drop timezone information.\n",
      "  warnings.warn(\n"
     ]
    }
   ],
   "source": [
    "df_monthly_return.index=df_monthly_return.index.to_period('M')"
   ]
  },
  {
   "cell_type": "code",
   "execution_count": 20,
   "metadata": {},
   "outputs": [
    {
     "data": {
      "text/plain": [
       "PeriodIndex(['2013-01', '2013-02', '2013-03', '2013-04', '2013-05', '2013-06',\n",
       "             '2013-07', '2013-08', '2013-09', '2013-10',\n",
       "             ...\n",
       "             '2022-04', '2022-05', '2022-06', '2022-07', '2022-08', '2022-09',\n",
       "             '2022-10', '2022-11', '2022-12', '2023-01'],\n",
       "            dtype='period[M]', name='Date', length=121, freq='M')"
      ]
     },
     "execution_count": 20,
     "metadata": {},
     "output_type": "execute_result"
    }
   ],
   "source": [
    "df_monthly_return.index"
   ]
  },
  {
   "cell_type": "code",
   "execution_count": 21,
   "metadata": {
    "scrolled": true
   },
   "outputs": [
    {
     "data": {
      "text/html": [
       "<div>\n",
       "<style scoped>\n",
       "    .dataframe tbody tr th:only-of-type {\n",
       "        vertical-align: middle;\n",
       "    }\n",
       "\n",
       "    .dataframe tbody tr th {\n",
       "        vertical-align: top;\n",
       "    }\n",
       "\n",
       "    .dataframe thead th {\n",
       "        text-align: right;\n",
       "    }\n",
       "</style>\n",
       "<table border=\"1\" class=\"dataframe\">\n",
       "  <thead>\n",
       "    <tr style=\"text-align: right;\">\n",
       "      <th>Ticker</th>\n",
       "      <th>AAPL</th>\n",
       "      <th>ASML</th>\n",
       "      <th>COST</th>\n",
       "      <th>ISRG</th>\n",
       "      <th>JNJ</th>\n",
       "      <th>JPM</th>\n",
       "      <th>LMT</th>\n",
       "      <th>QCOM</th>\n",
       "    </tr>\n",
       "    <tr>\n",
       "      <th>Date</th>\n",
       "      <th></th>\n",
       "      <th></th>\n",
       "      <th></th>\n",
       "      <th></th>\n",
       "      <th></th>\n",
       "      <th></th>\n",
       "      <th></th>\n",
       "      <th></th>\n",
       "    </tr>\n",
       "  </thead>\n",
       "  <tbody>\n",
       "    <tr>\n",
       "      <th>2013-01</th>\n",
       "      <td>-0.002933</td>\n",
       "      <td>-0.001728</td>\n",
       "      <td>-0.001853</td>\n",
       "      <td>0.002408</td>\n",
       "      <td>-0.002294</td>\n",
       "      <td>-0.001697</td>\n",
       "      <td>-0.015191</td>\n",
       "      <td>0.039194</td>\n",
       "    </tr>\n",
       "    <tr>\n",
       "      <th>2013-02</th>\n",
       "      <td>-0.007131</td>\n",
       "      <td>-0.011283</td>\n",
       "      <td>0.005559</td>\n",
       "      <td>-0.110946</td>\n",
       "      <td>-0.002752</td>\n",
       "      <td>-0.007305</td>\n",
       "      <td>-0.003736</td>\n",
       "      <td>0.000000</td>\n",
       "    </tr>\n",
       "    <tr>\n",
       "      <th>2013-03</th>\n",
       "      <td>-0.020837</td>\n",
       "      <td>0.026109</td>\n",
       "      <td>-0.004970</td>\n",
       "      <td>0.001345</td>\n",
       "      <td>0.003200</td>\n",
       "      <td>-0.006489</td>\n",
       "      <td>0.021700</td>\n",
       "      <td>0.003899</td>\n",
       "    </tr>\n",
       "    <tr>\n",
       "      <th>2013-04</th>\n",
       "      <td>0.029434</td>\n",
       "      <td>-0.002548</td>\n",
       "      <td>-0.001841</td>\n",
       "      <td>0.006399</td>\n",
       "      <td>-0.004090</td>\n",
       "      <td>0.001839</td>\n",
       "      <td>0.000303</td>\n",
       "      <td>-0.000163</td>\n",
       "    </tr>\n",
       "    <tr>\n",
       "      <th>2013-05</th>\n",
       "      <td>-0.004097</td>\n",
       "      <td>-0.027987</td>\n",
       "      <td>-0.020111</td>\n",
       "      <td>-0.014167</td>\n",
       "      <td>-0.021049</td>\n",
       "      <td>-0.018519</td>\n",
       "      <td>-0.011212</td>\n",
       "      <td>-0.010907</td>\n",
       "    </tr>\n",
       "  </tbody>\n",
       "</table>\n",
       "</div>"
      ],
      "text/plain": [
       "Ticker       AAPL      ASML      COST      ISRG       JNJ       JPM       LMT  \\\n",
       "Date                                                                            \n",
       "2013-01 -0.002933 -0.001728 -0.001853  0.002408 -0.002294 -0.001697 -0.015191   \n",
       "2013-02 -0.007131 -0.011283  0.005559 -0.110946 -0.002752 -0.007305 -0.003736   \n",
       "2013-03 -0.020837  0.026109 -0.004970  0.001345  0.003200 -0.006489  0.021700   \n",
       "2013-04  0.029434 -0.002548 -0.001841  0.006399 -0.004090  0.001839  0.000303   \n",
       "2013-05 -0.004097 -0.027987 -0.020111 -0.014167 -0.021049 -0.018519 -0.011212   \n",
       "\n",
       "Ticker       QCOM  \n",
       "Date               \n",
       "2013-01  0.039194  \n",
       "2013-02  0.000000  \n",
       "2013-03  0.003899  \n",
       "2013-04 -0.000163  \n",
       "2013-05 -0.010907  "
      ]
     },
     "execution_count": 21,
     "metadata": {},
     "output_type": "execute_result"
    }
   ],
   "source": [
    "df_monthly_return.head()"
   ]
  },
  {
   "cell_type": "code",
   "execution_count": 22,
   "metadata": {},
   "outputs": [
    {
     "name": "stderr",
     "output_type": "stream",
     "text": [
      "<ipython-input-22-dcce2c34fe1c>:1: FutureWarning: Indexing a DataFrame with a datetimelike index using a single string to slice the rows, like `frame[string]`, is deprecated and will be removed in a future version. Use `frame.loc[string]` instead.\n",
      "  df_monthly_return['2023']\n"
     ]
    },
    {
     "data": {
      "text/html": [
       "<div>\n",
       "<style scoped>\n",
       "    .dataframe tbody tr th:only-of-type {\n",
       "        vertical-align: middle;\n",
       "    }\n",
       "\n",
       "    .dataframe tbody tr th {\n",
       "        vertical-align: top;\n",
       "    }\n",
       "\n",
       "    .dataframe thead th {\n",
       "        text-align: right;\n",
       "    }\n",
       "</style>\n",
       "<table border=\"1\" class=\"dataframe\">\n",
       "  <thead>\n",
       "    <tr style=\"text-align: right;\">\n",
       "      <th>Ticker</th>\n",
       "      <th>AAPL</th>\n",
       "      <th>ASML</th>\n",
       "      <th>COST</th>\n",
       "      <th>ISRG</th>\n",
       "      <th>JNJ</th>\n",
       "      <th>JPM</th>\n",
       "      <th>LMT</th>\n",
       "      <th>QCOM</th>\n",
       "    </tr>\n",
       "    <tr>\n",
       "      <th>Date</th>\n",
       "      <th></th>\n",
       "      <th></th>\n",
       "      <th></th>\n",
       "      <th></th>\n",
       "      <th></th>\n",
       "      <th></th>\n",
       "      <th></th>\n",
       "      <th></th>\n",
       "    </tr>\n",
       "  </thead>\n",
       "  <tbody>\n",
       "    <tr>\n",
       "      <th>2023-01</th>\n",
       "      <td>0.0235</td>\n",
       "      <td>-0.010096</td>\n",
       "      <td>-0.001766</td>\n",
       "      <td>0.007071</td>\n",
       "      <td>-0.001723</td>\n",
       "      <td>0.010272</td>\n",
       "      <td>0.013857</td>\n",
       "      <td>-0.002824</td>\n",
       "    </tr>\n",
       "  </tbody>\n",
       "</table>\n",
       "</div>"
      ],
      "text/plain": [
       "Ticker     AAPL      ASML      COST      ISRG       JNJ       JPM       LMT  \\\n",
       "Date                                                                          \n",
       "2023-01  0.0235 -0.010096 -0.001766  0.007071 -0.001723  0.010272  0.013857   \n",
       "\n",
       "Ticker       QCOM  \n",
       "Date               \n",
       "2023-01 -0.002824  "
      ]
     },
     "execution_count": 22,
     "metadata": {},
     "output_type": "execute_result"
    }
   ],
   "source": [
    "df_monthly_return['2023']"
   ]
  },
  {
   "cell_type": "code",
   "execution_count": 23,
   "metadata": {},
   "outputs": [
    {
     "data": {
      "text/html": [
       "<div>\n",
       "<style scoped>\n",
       "    .dataframe tbody tr th:only-of-type {\n",
       "        vertical-align: middle;\n",
       "    }\n",
       "\n",
       "    .dataframe tbody tr th {\n",
       "        vertical-align: top;\n",
       "    }\n",
       "\n",
       "    .dataframe thead th {\n",
       "        text-align: right;\n",
       "    }\n",
       "</style>\n",
       "<table border=\"1\" class=\"dataframe\">\n",
       "  <thead>\n",
       "    <tr style=\"text-align: right;\">\n",
       "      <th>Ticker</th>\n",
       "      <th>AAPL</th>\n",
       "      <th>ASML</th>\n",
       "      <th>COST</th>\n",
       "      <th>ISRG</th>\n",
       "      <th>JNJ</th>\n",
       "      <th>JPM</th>\n",
       "      <th>LMT</th>\n",
       "      <th>QCOM</th>\n",
       "    </tr>\n",
       "    <tr>\n",
       "      <th>Date</th>\n",
       "      <th></th>\n",
       "      <th></th>\n",
       "      <th></th>\n",
       "      <th></th>\n",
       "      <th></th>\n",
       "      <th></th>\n",
       "      <th></th>\n",
       "      <th></th>\n",
       "    </tr>\n",
       "  </thead>\n",
       "  <tbody>\n",
       "    <tr>\n",
       "      <th>2013-01</th>\n",
       "      <td>997.066592</td>\n",
       "      <td>998.271631</td>\n",
       "      <td>998.146979</td>\n",
       "      <td>1002.408352</td>\n",
       "      <td>997.705677</td>\n",
       "      <td>998.302551</td>\n",
       "      <td>984.809057</td>\n",
       "      <td>1039.194236</td>\n",
       "    </tr>\n",
       "    <tr>\n",
       "      <th>2013-02</th>\n",
       "      <td>989.956981</td>\n",
       "      <td>987.008584</td>\n",
       "      <td>1003.695790</td>\n",
       "      <td>891.194724</td>\n",
       "      <td>994.960036</td>\n",
       "      <td>991.009988</td>\n",
       "      <td>981.129634</td>\n",
       "      <td>1039.194236</td>\n",
       "    </tr>\n",
       "    <tr>\n",
       "      <th>2013-03</th>\n",
       "      <td>969.329214</td>\n",
       "      <td>1012.778619</td>\n",
       "      <td>998.707369</td>\n",
       "      <td>892.393819</td>\n",
       "      <td>998.143446</td>\n",
       "      <td>984.578913</td>\n",
       "      <td>1002.419968</td>\n",
       "      <td>1043.246398</td>\n",
       "    </tr>\n",
       "    <tr>\n",
       "      <th>2013-04</th>\n",
       "      <td>997.860055</td>\n",
       "      <td>1010.197667</td>\n",
       "      <td>996.868834</td>\n",
       "      <td>898.104010</td>\n",
       "      <td>994.061252</td>\n",
       "      <td>986.389899</td>\n",
       "      <td>1002.723442</td>\n",
       "      <td>1043.076766</td>\n",
       "    </tr>\n",
       "    <tr>\n",
       "      <th>2013-05</th>\n",
       "      <td>993.772138</td>\n",
       "      <td>981.925001</td>\n",
       "      <td>976.821031</td>\n",
       "      <td>885.380208</td>\n",
       "      <td>973.137118</td>\n",
       "      <td>968.123263</td>\n",
       "      <td>991.481372</td>\n",
       "      <td>1031.700173</td>\n",
       "    </tr>\n",
       "  </tbody>\n",
       "</table>\n",
       "</div>"
      ],
      "text/plain": [
       "Ticker         AAPL         ASML         COST         ISRG         JNJ  \\\n",
       "Date                                                                     \n",
       "2013-01  997.066592   998.271631   998.146979  1002.408352  997.705677   \n",
       "2013-02  989.956981   987.008584  1003.695790   891.194724  994.960036   \n",
       "2013-03  969.329214  1012.778619   998.707369   892.393819  998.143446   \n",
       "2013-04  997.860055  1010.197667   996.868834   898.104010  994.061252   \n",
       "2013-05  993.772138   981.925001   976.821031   885.380208  973.137118   \n",
       "\n",
       "Ticker          JPM          LMT         QCOM  \n",
       "Date                                           \n",
       "2013-01  998.302551   984.809057  1039.194236  \n",
       "2013-02  991.009988   981.129634  1039.194236  \n",
       "2013-03  984.578913  1002.419968  1043.246398  \n",
       "2013-04  986.389899  1002.723442  1043.076766  \n",
       "2013-05  968.123263   991.481372  1031.700173  "
      ]
     },
     "execution_count": 23,
     "metadata": {},
     "output_type": "execute_result"
    }
   ],
   "source": [
    "#compute drawdown\n",
    "wealthe_index=1000*(df_monthly_return+1).cumprod()\n",
    "wealthe_index.head()"
   ]
  },
  {
   "cell_type": "code",
   "execution_count": 24,
   "metadata": {},
   "outputs": [
    {
     "data": {
      "text/plain": [
       "<AxesSubplot:xlabel='Date'>"
      ]
     },
     "execution_count": 24,
     "metadata": {},
     "output_type": "execute_result"
    },
    {
     "data": {
      "image/png": "[encoded data removed]",
      "text/plain": [
       "<Figure size 432x288 with 1 Axes>"
      ]
     },
     "metadata": {
      "needs_background": "light"
     },
     "output_type": "display_data"
    }
   ],
   "source": [
    "wealthe_index.plot.line()"
   ]
  },
  {
   "cell_type": "code",
   "execution_count": 25,
   "metadata": {},
   "outputs": [
    {
     "data": {
      "text/plain": [
       "<AxesSubplot:xlabel='Date'>"
      ]
     },
     "execution_count": 25,
     "metadata": {},
     "output_type": "execute_result"
    },
    {
     "data": {
      "image/png": "[encoded data removed]",
      "text/plain": [
       "<Figure size 432x288 with 1 Axes>"
      ]
     },
     "metadata": {
      "needs_background": "light"
     },
     "output_type": "display_data"
    }
   ],
   "source": [
    "previous_peaks=wealthe_index.cummax()\n",
    "previous_peaks.plot()"
   ]
  },
  {
   "cell_type": "code",
   "execution_count": 26,
   "metadata": {},
   "outputs": [
    {
     "data": {
      "text/plain": [
       "<AxesSubplot:xlabel='Date'>"
      ]
     },
     "execution_count": 26,
     "metadata": {},
     "output_type": "execute_result"
    },
    {
     "data": {
      "image/png": "[encoded data removed]",
      "text/plain": [
       "<Figure size 432x288 with 1 Axes>"
      ]
     },
     "metadata": {
      "needs_background": "light"
     },
     "output_type": "display_data"
    }
   ],
   "source": [
    "drawdown=(wealthe_index-previous_peaks)/previous_peaks\n",
    "drawdown.plot()"
   ]
  },
  {
   "cell_type": "code",
   "execution_count": 27,
   "metadata": {},
   "outputs": [],
   "source": [
    "def drawdown(return_series: pd.Series):\n",
    "    wealth_index=1000*(return_series+1).cumprod()\n",
    "    previous_peaks=wealth_index.cummax()\n",
    "    drawdown=(wealth_index-previous_peaks)/previous_peaks\n",
    "    return pd.DataFrame({\n",
    "        \"Wealth\": wealth_index,\n",
    "        \"Peaks\": previous_peaks,\n",
    "        \"Drawdown\": drawdown\n",
    "    })"
   ]
  },
  {
   "cell_type": "code",
   "execution_count": 28,
   "metadata": {},
   "outputs": [
    {
     "data": {
      "text/html": [
       "<div>\n",
       "<style scoped>\n",
       "    .dataframe tbody tr th:only-of-type {\n",
       "        vertical-align: middle;\n",
       "    }\n",
       "\n",
       "    .dataframe tbody tr th {\n",
       "        vertical-align: top;\n",
       "    }\n",
       "\n",
       "    .dataframe thead th {\n",
       "        text-align: right;\n",
       "    }\n",
       "</style>\n",
       "<table border=\"1\" class=\"dataframe\">\n",
       "  <thead>\n",
       "    <tr style=\"text-align: right;\">\n",
       "      <th></th>\n",
       "      <th>Wealth</th>\n",
       "      <th>Peaks</th>\n",
       "      <th>Drawdown</th>\n",
       "    </tr>\n",
       "    <tr>\n",
       "      <th>Date</th>\n",
       "      <th></th>\n",
       "      <th></th>\n",
       "      <th></th>\n",
       "    </tr>\n",
       "  </thead>\n",
       "  <tbody>\n",
       "    <tr>\n",
       "      <th>2013-01</th>\n",
       "      <td>997.066592</td>\n",
       "      <td>997.066592</td>\n",
       "      <td>0.000000</td>\n",
       "    </tr>\n",
       "    <tr>\n",
       "      <th>2013-02</th>\n",
       "      <td>989.956981</td>\n",
       "      <td>997.066592</td>\n",
       "      <td>-0.007131</td>\n",
       "    </tr>\n",
       "    <tr>\n",
       "      <th>2013-03</th>\n",
       "      <td>969.329214</td>\n",
       "      <td>997.066592</td>\n",
       "      <td>-0.027819</td>\n",
       "    </tr>\n",
       "    <tr>\n",
       "      <th>2013-04</th>\n",
       "      <td>997.860055</td>\n",
       "      <td>997.860055</td>\n",
       "      <td>0.000000</td>\n",
       "    </tr>\n",
       "    <tr>\n",
       "      <th>2013-05</th>\n",
       "      <td>993.772138</td>\n",
       "      <td>997.860055</td>\n",
       "      <td>-0.004097</td>\n",
       "    </tr>\n",
       "  </tbody>\n",
       "</table>\n",
       "</div>"
      ],
      "text/plain": [
       "             Wealth       Peaks  Drawdown\n",
       "Date                                     \n",
       "2013-01  997.066592  997.066592  0.000000\n",
       "2013-02  989.956981  997.066592 -0.007131\n",
       "2013-03  969.329214  997.066592 -0.027819\n",
       "2013-04  997.860055  997.860055  0.000000\n",
       "2013-05  993.772138  997.860055 -0.004097"
      ]
     },
     "execution_count": 28,
     "metadata": {},
     "output_type": "execute_result"
    }
   ],
   "source": [
    "drawdown(df_monthly_return['AAPL']).head()"
   ]
  },
  {
   "cell_type": "code",
   "execution_count": 29,
   "metadata": {
    "scrolled": true
   },
   "outputs": [
    {
     "data": {
      "text/plain": [
       "<AxesSubplot:xlabel='Date'>"
      ]
     },
     "execution_count": 29,
     "metadata": {},
     "output_type": "execute_result"
    },
    {
     "data": {
      "image/png": "[encoded data removed]",
      "text/plain": [
       "<Figure size 432x288 with 1 Axes>"
      ]
     },
     "metadata": {
      "needs_background": "light"
     },
     "output_type": "display_data"
    }
   ],
   "source": [
    "drawdown(df_monthly_return['AAPL'])[['Wealth','Peaks']].plot()"
   ]
  },
  {
   "cell_type": "code",
   "execution_count": 30,
   "metadata": {},
   "outputs": [
    {
     "data": {
      "text/plain": [
       "-0.14845974570059947"
      ]
     },
     "execution_count": 30,
     "metadata": {},
     "output_type": "execute_result"
    }
   ],
   "source": [
    "drawdown(df_monthly_return['AAPL'])['Drawdown'].min()"
   ]
  },
  {
   "cell_type": "code",
   "execution_count": 31,
   "metadata": {},
   "outputs": [
    {
     "data": {
      "text/plain": [
       "Period('2022-10', 'M')"
      ]
     },
     "execution_count": 31,
     "metadata": {},
     "output_type": "execute_result"
    }
   ],
   "source": [
    "drawdown(df_monthly_return['AAPL'])['Drawdown'].idxmin()"
   ]
  },
  {
   "cell_type": "markdown",
   "metadata": {},
   "source": [
    "#Deviation from normality"
   ]
  },
  {
   "cell_type": "code",
   "execution_count": 37,
   "metadata": {},
   "outputs": [
    {
     "data": {
      "text/html": [
       "<div>\n",
       "<style scoped>\n",
       "    .dataframe tbody tr th:only-of-type {\n",
       "        vertical-align: middle;\n",
       "    }\n",
       "\n",
       "    .dataframe tbody tr th {\n",
       "        vertical-align: top;\n",
       "    }\n",
       "\n",
       "    .dataframe thead th {\n",
       "        text-align: right;\n",
       "    }\n",
       "</style>\n",
       "<table border=\"1\" class=\"dataframe\">\n",
       "  <thead>\n",
       "    <tr style=\"text-align: right;\">\n",
       "      <th></th>\n",
       "      <th>0</th>\n",
       "      <th>1</th>\n",
       "      <th>2</th>\n",
       "    </tr>\n",
       "    <tr>\n",
       "      <th>Ticker</th>\n",
       "      <th></th>\n",
       "      <th></th>\n",
       "      <th></th>\n",
       "    </tr>\n",
       "  </thead>\n",
       "  <tbody>\n",
       "    <tr>\n",
       "      <th>AAPL</th>\n",
       "      <td>0.000453</td>\n",
       "      <td>-0.001514</td>\n",
       "      <td>True</td>\n",
       "    </tr>\n",
       "    <tr>\n",
       "      <th>ASML</th>\n",
       "      <td>-0.001751</td>\n",
       "      <td>-0.002244</td>\n",
       "      <td>True</td>\n",
       "    </tr>\n",
       "    <tr>\n",
       "      <th>COST</th>\n",
       "      <td>-0.000505</td>\n",
       "      <td>0.000000</td>\n",
       "      <td>False</td>\n",
       "    </tr>\n",
       "    <tr>\n",
       "      <th>ISRG</th>\n",
       "      <td>-0.000078</td>\n",
       "      <td>0.000304</td>\n",
       "      <td>False</td>\n",
       "    </tr>\n",
       "    <tr>\n",
       "      <th>JNJ</th>\n",
       "      <td>-0.002767</td>\n",
       "      <td>-0.002252</td>\n",
       "      <td>False</td>\n",
       "    </tr>\n",
       "    <tr>\n",
       "      <th>JPM</th>\n",
       "      <td>-0.004118</td>\n",
       "      <td>-0.003917</td>\n",
       "      <td>False</td>\n",
       "    </tr>\n",
       "    <tr>\n",
       "      <th>LMT</th>\n",
       "      <td>-0.001679</td>\n",
       "      <td>-0.002594</td>\n",
       "      <td>True</td>\n",
       "    </tr>\n",
       "    <tr>\n",
       "      <th>QCOM</th>\n",
       "      <td>0.000687</td>\n",
       "      <td>0.000775</td>\n",
       "      <td>False</td>\n",
       "    </tr>\n",
       "  </tbody>\n",
       "</table>\n",
       "</div>"
      ],
      "text/plain": [
       "               0         1      2\n",
       "Ticker                           \n",
       "AAPL    0.000453 -0.001514   True\n",
       "ASML   -0.001751 -0.002244   True\n",
       "COST   -0.000505  0.000000  False\n",
       "ISRG   -0.000078  0.000304  False\n",
       "JNJ    -0.002767 -0.002252  False\n",
       "JPM    -0.004118 -0.003917  False\n",
       "LMT    -0.001679 -0.002594   True\n",
       "QCOM    0.000687  0.000775  False"
      ]
     },
     "execution_count": 37,
     "metadata": {},
     "output_type": "execute_result"
    }
   ],
   "source": [
    "pd.concat([df_monthly_return.mean(),df_monthly_return.median(), df_monthly_return.mean()>df_monthly_return.median()],axis='columns')"
   ]
  },
  {
   "cell_type": "markdown",
   "metadata": {},
   "source": [
    "#skewness \n",
    "$$ S(R)=\\frac{E[(R-E(R))^3]}{\\sigma_R^3} $$"
   ]
  },
  {
   "cell_type": "code",
   "execution_count": 38,
   "metadata": {},
   "outputs": [],
   "source": [
    "def skewness(r):\n",
    "    demeaned_r=r-r.mean()\n",
    "    #use the population standard deviation, so set dof=0\n",
    "    sigma_r=r.std(ddof=0)#volatility\n",
    "    exp=(demeaned_r**3).mean()#expected value of demean\n",
    "    return exp/sigma_r**3"
   ]
  },
  {
   "cell_type": "code",
   "execution_count": 39,
   "metadata": {},
   "outputs": [
    {
     "data": {
      "text/plain": [
       "Ticker\n",
       "AAPL    1.285503\n",
       "ASML    0.130754\n",
       "COST   -0.291509\n",
       "ISRG   -1.407117\n",
       "JNJ    -0.691055\n",
       "JPM    -0.193965\n",
       "LMT     0.993991\n",
       "QCOM    0.251946\n",
       "dtype: float64"
      ]
     },
     "execution_count": 39,
     "metadata": {},
     "output_type": "execute_result"
    }
   ],
   "source": [
    "skewness(df_monthly_return)"
   ]
  },
  {
   "cell_type": "code",
   "execution_count": 40,
   "metadata": {},
   "outputs": [
    {
     "data": {
      "text/plain": [
       "array([ 1.2855034 ,  0.13075358, -0.29150872, -1.40711652, -0.69105469,\n",
       "       -0.19396499,  0.99399092,  0.25194556])"
      ]
     },
     "execution_count": 40,
     "metadata": {},
     "output_type": "execute_result"
    }
   ],
   "source": [
    "import scipy.stats\n",
    "scipy.stats.skew(df_monthly_return)"
   ]
  },
  {
   "cell_type": "code",
   "execution_count": 41,
   "metadata": {},
   "outputs": [
    {
     "data": {
      "text/plain": [
       "(121, 8)"
      ]
     },
     "execution_count": 41,
     "metadata": {},
     "output_type": "execute_result"
    }
   ],
   "source": [
    "df_monthly_return.shape"
   ]
  },
  {
   "cell_type": "code",
   "execution_count": 42,
   "metadata": {},
   "outputs": [],
   "source": [
    "#mean is zero and std is 15%\n",
    "normal_returns=np.random.normal(0, 0.15,size=61000)"
   ]
  },
  {
   "cell_type": "code",
   "execution_count": 43,
   "metadata": {},
   "outputs": [
    {
     "data": {
      "text/plain": [
       "-0.007149675648798383"
      ]
     },
     "execution_count": 43,
     "metadata": {},
     "output_type": "execute_result"
    }
   ],
   "source": [
    "skewness(normal_returns)"
   ]
  },
  {
   "cell_type": "markdown",
   "metadata": {},
   "source": [
    "#Kutosis\n",
    "$$ K(R)=\\frac{E[(R-E(R))^4]}{\\sigma_R^4} $$"
   ]
  },
  {
   "cell_type": "code",
   "execution_count": 44,
   "metadata": {},
   "outputs": [],
   "source": [
    "def kurtosis(r):\n",
    "    demeaned_r=r-r.mean()\n",
    "    #use the population standard deviation, so set dof=0\n",
    "    sigma_r=r.std(ddof=0)#volatility\n",
    "    exp=(demeaned_r**4).mean()#expected value of demean\n",
    "    return exp/sigma_r**4"
   ]
  },
  {
   "cell_type": "code",
   "execution_count": 45,
   "metadata": {
    "scrolled": true
   },
   "outputs": [
    {
     "data": {
      "text/plain": [
       "Ticker\n",
       "AAPL    10.539682\n",
       "ASML     3.849939\n",
       "COST     6.448022\n",
       "ISRG    14.939556\n",
       "JNJ      4.101600\n",
       "JPM      3.680761\n",
       "LMT      7.215933\n",
       "QCOM     7.299751\n",
       "dtype: float64"
      ]
     },
     "execution_count": 45,
     "metadata": {},
     "output_type": "execute_result"
    }
   ],
   "source": [
    "kurtosis(df_monthly_return)"
   ]
  },
  {
   "cell_type": "code",
   "execution_count": 46,
   "metadata": {},
   "outputs": [
    {
     "data": {
      "text/plain": [
       "-0.013589078855384074"
      ]
     },
     "execution_count": 46,
     "metadata": {},
     "output_type": "execute_result"
    }
   ],
   "source": [
    "scipy.stats.kurtosis(normal_returns, fisher=True)"
   ]
  },
  {
   "cell_type": "code",
   "execution_count": 47,
   "metadata": {},
   "outputs": [
    {
     "data": {
      "text/plain": [
       "array([10.53968192,  3.84993893,  6.44802179, 14.93955615,  4.10160029,\n",
       "        3.68076087,  7.21593304,  7.29975147])"
      ]
     },
     "execution_count": 47,
     "metadata": {},
     "output_type": "execute_result"
    }
   ],
   "source": [
    "scipy.stats.kurtosis(df_monthly_return, fisher=False)"
   ]
  },
  {
   "cell_type": "code",
   "execution_count": 48,
   "metadata": {},
   "outputs": [
    {
     "data": {
      "text/plain": [
       "Jarque_beraResult(statistic=0.9890502171610693, pvalue=0.6098604560364045)"
      ]
     },
     "execution_count": 48,
     "metadata": {},
     "output_type": "execute_result"
    }
   ],
   "source": [
    "scipy.stats.jarque_bera(normal_returns)"
   ]
  },
  {
   "cell_type": "code",
   "execution_count": 49,
   "metadata": {},
   "outputs": [
    {
     "data": {
      "text/plain": [
       "Jarque_beraResult(statistic=1797.785365248062, pvalue=0.0)"
      ]
     },
     "execution_count": 49,
     "metadata": {},
     "output_type": "execute_result"
    }
   ],
   "source": [
    "scipy.stats.jarque_bera(df_monthly_return)"
   ]
  },
  {
   "cell_type": "code",
   "execution_count": 50,
   "metadata": {},
   "outputs": [],
   "source": [
    "def is_normal(r, level=0.01):\n",
    "    import scipy.stats\n",
    "    #apply at least 1% of condident level by default\n",
    "    statistic, p_value=scipy.stats.jarque_bera(r)\n",
    "    return p_value>level"
   ]
  },
  {
   "cell_type": "code",
   "execution_count": 51,
   "metadata": {},
   "outputs": [
    {
     "data": {
      "text/plain": [
       "True"
      ]
     },
     "execution_count": 51,
     "metadata": {},
     "output_type": "execute_result"
    }
   ],
   "source": [
    "is_normal(normal_returns)"
   ]
  },
  {
   "cell_type": "code",
   "execution_count": 52,
   "metadata": {},
   "outputs": [
    {
     "data": {
      "text/plain": [
       "Ticker\n",
       "AAPL    False\n",
       "ASML     True\n",
       "COST    False\n",
       "ISRG    False\n",
       "JNJ     False\n",
       "JPM      True\n",
       "LMT     False\n",
       "QCOM    False\n",
       "dtype: bool"
      ]
     },
     "execution_count": 52,
     "metadata": {},
     "output_type": "execute_result"
    }
   ],
   "source": [
    "#apply function to each column when axis=0\n",
    "df_monthly_return.agg(is_normal, axis=0)"
   ]
  },
  {
   "cell_type": "markdown",
   "metadata": {},
   "source": [
    "Downsize"
   ]
  },
  {
   "cell_type": "code",
   "execution_count": 53,
   "metadata": {},
   "outputs": [],
   "source": [
    "from matplotlib import pyplot as plt"
   ]
  },
  {
   "cell_type": "code",
   "execution_count": 54,
   "metadata": {},
   "outputs": [
    {
     "data": {
      "text/plain": [
       "Ticker\n",
       "AAPL    0.010953\n",
       "ASML    0.011258\n",
       "COST    0.009681\n",
       "ISRG    0.015226\n",
       "JNJ     0.007691\n",
       "JPM     0.009882\n",
       "LMT     0.007394\n",
       "QCOM    0.012782\n",
       "dtype: float64"
      ]
     },
     "execution_count": 54,
     "metadata": {},
     "output_type": "execute_result"
    }
   ],
   "source": [
    "df_monthly_return[df_monthly_return<0].std(ddof=0)"
   ]
  },
  {
   "cell_type": "code",
   "execution_count": 55,
   "metadata": {},
   "outputs": [],
   "source": [
    "def semideviation(r):\n",
    "    is_negative=r<0\n",
    "    return(r[is_negative].std(ddof=0))"
   ]
  },
  {
   "cell_type": "code",
   "execution_count": 56,
   "metadata": {},
   "outputs": [
    {
     "data": {
      "text/plain": [
       "Ticker\n",
       "AAPL    0.010953\n",
       "ASML    0.011258\n",
       "COST    0.009681\n",
       "ISRG    0.015226\n",
       "JNJ     0.007691\n",
       "JPM     0.009882\n",
       "LMT     0.007394\n",
       "QCOM    0.012782\n",
       "dtype: float64"
      ]
     },
     "execution_count": 56,
     "metadata": {},
     "output_type": "execute_result"
    }
   ],
   "source": [
    "semideviation(df_monthly_return)"
   ]
  },
  {
   "cell_type": "markdown",
   "metadata": {},
   "source": [
    "### VaR and CVaR\n",
    "- historic var\n",
    "- parametric var (Gaussian)\n",
    "- modified cornish-fish var (returns are not Gaussian, more fatter tail)"
   ]
  },
  {
   "cell_type": "code",
   "execution_count": 57,
   "metadata": {},
   "outputs": [
    {
     "data": {
      "text/plain": [
       "array([-0.02598064, -0.02813659, -0.02011077, -0.0228162 , -0.02160299,\n",
       "       -0.02652468, -0.02145437, -0.02435943])"
      ]
     },
     "execution_count": 57,
     "metadata": {},
     "output_type": "execute_result"
    }
   ],
   "source": [
    "#5% chance for apple to lose 3.6% or less\n",
    "np.percentile(df_monthly_return, 5, axis=0)"
   ]
  },
  {
   "cell_type": "code",
   "execution_count": 58,
   "metadata": {},
   "outputs": [],
   "source": [
    "def var_historic(r, level=5):\n",
    "    if isinstance(r, pd.DataFrame): #if r is dataframe, return trune\n",
    "        return r.agg(var_historic, level=level)\n",
    "    elif isinstance(r, pd.Series):\n",
    "        return -np.percentile(r,level)\n",
    "    else:\n",
    "        raise TypeError(\"Expected r to be Series or DataFrame\")"
   ]
  },
  {
   "cell_type": "code",
   "execution_count": 59,
   "metadata": {},
   "outputs": [
    {
     "data": {
      "text/plain": [
       "Ticker\n",
       "AAPL    0.025981\n",
       "ASML    0.028137\n",
       "COST    0.020111\n",
       "ISRG    0.022816\n",
       "JNJ     0.021603\n",
       "JPM     0.026525\n",
       "LMT     0.021454\n",
       "QCOM    0.024359\n",
       "dtype: float64"
      ]
     },
     "execution_count": 59,
     "metadata": {},
     "output_type": "execute_result"
    }
   ],
   "source": [
    "var_historic(df_monthly_return, 5)"
   ]
  },
  {
   "cell_type": "code",
   "execution_count": 60,
   "metadata": {},
   "outputs": [
    {
     "data": {
      "text/plain": [
       "0.0"
      ]
     },
     "execution_count": 60,
     "metadata": {},
     "output_type": "execute_result"
    }
   ],
   "source": [
    "from scipy.stats import norm\n",
    "#for normal distribution, what's the z score for half of the distribution lie below that \n",
    "norm.ppf(0.5)"
   ]
  },
  {
   "cell_type": "code",
   "execution_count": 61,
   "metadata": {},
   "outputs": [],
   "source": [
    "z=norm.ppf(0.05)"
   ]
  },
  {
   "cell_type": "code",
   "execution_count": 62,
   "metadata": {},
   "outputs": [
    {
     "data": {
      "text/plain": [
       "Ticker\n",
       "AAPL    0.030168\n",
       "ASML    0.030258\n",
       "COST    0.021389\n",
       "ISRG    0.029403\n",
       "JNJ     0.018961\n",
       "JPM     0.026567\n",
       "LMT     0.023803\n",
       "QCOM    0.028379\n",
       "dtype: float64"
      ]
     },
     "execution_count": 62,
     "metadata": {},
     "output_type": "execute_result"
    }
   ],
   "source": [
    "-(df_monthly_return.mean()+\n",
    "  z*df_monthly_return.std(ddof=0))"
   ]
  },
  {
   "cell_type": "code",
   "execution_count": 63,
   "metadata": {},
   "outputs": [],
   "source": [
    "def var_gaussian(r, level=5):\n",
    "    #computre z score assuming it's Gaussian\n",
    "    z=norm.ppf(level/100)\n",
    "    return -(r.mean()+z*r.std(ddof=0))"
   ]
  },
  {
   "cell_type": "code",
   "execution_count": 64,
   "metadata": {},
   "outputs": [
    {
     "data": {
      "text/plain": [
       "Ticker\n",
       "AAPL    0.030168\n",
       "ASML    0.030258\n",
       "COST    0.021389\n",
       "ISRG    0.029403\n",
       "JNJ     0.018961\n",
       "JPM     0.026567\n",
       "LMT     0.023803\n",
       "QCOM    0.028379\n",
       "dtype: float64"
      ]
     },
     "execution_count": 64,
     "metadata": {},
     "output_type": "execute_result"
    }
   ],
   "source": [
    "var_gaussian(df_monthly_return)"
   ]
  },
  {
   "cell_type": "code",
   "execution_count": 65,
   "metadata": {},
   "outputs": [],
   "source": [
    "def var_gaussian(r, level=5, modified=False):\n",
    "    #computre z score assuming it's Gaussian\n",
    "    z=norm.ppf(level/100)\n",
    "    if modified:\n",
    "        s=skewness(r)\n",
    "        k=kurtosis(r)\n",
    "        z=(z+\n",
    "             (z**2-1)*s/6+\n",
    "             (z**3-3*z)*(k-3)/24-\n",
    "             (2*z**3-5*z)*(s**2)/36\n",
    "            )\n",
    "    return -(r.mean()+z*r.std(ddof=0))"
   ]
  },
  {
   "cell_type": "code",
   "execution_count": 66,
   "metadata": {},
   "outputs": [],
   "source": [
    "var_list=[var_gaussian(df_monthly_return), var_gaussian(df_monthly_return, modified=True),\n",
    "         var_historic(df_monthly_return)]"
   ]
  },
  {
   "cell_type": "code",
   "execution_count": 67,
   "metadata": {},
   "outputs": [
    {
     "data": {
      "text/plain": [
       "<AxesSubplot:title={'center':'Portfolio VaR'}, xlabel='Ticker'>"
      ]
     },
     "execution_count": 67,
     "metadata": {},
     "output_type": "execute_result"
    },
    {
     "data": {
      "image/png": "[encoded data removed]",
      "text/plain": [
       "<Figure size 432x288 with 1 Axes>"
      ]
     },
     "metadata": {
      "needs_background": "light"
     },
     "output_type": "display_data"
    }
   ],
   "source": [
    "comparison=pd.concat(var_list, axis=1)\n",
    "comparison.columns=[\"Gaussian\", \"Cornish-Fisher\", \"Historic\"]\n",
    "comparison.plot.bar(title=\"Portfolio VaR\")"
   ]
  },
  {
   "cell_type": "markdown",
   "metadata": {},
   "source": [
    "###Beyond VaR, CVaR"
   ]
  },
  {
   "cell_type": "code",
   "execution_count": 68,
   "metadata": {},
   "outputs": [],
   "source": [
    "#find all the returns that are less than historical var\n",
    "def cva_historic(r, level=5):\n",
    "    if isinstance(r, pd.Series): #if r is dataframe, return trune\n",
    "        is_beyond=r<=-var_historic(r, level=level)\n",
    "        return -r[is_beyond].mean()\n",
    "    elif isinstance(r, pd.DataFrame):\n",
    "        return r.agg(cva_historic, level=level)\n",
    "    else:\n",
    "        raise TypeError(\"Expected r to be Series or DataFrame\")"
   ]
  },
  {
   "cell_type": "code",
   "execution_count": 69,
   "metadata": {},
   "outputs": [
    {
     "data": {
      "text/plain": [
       "Ticker\n",
       "AAPL    0.036790\n",
       "ASML    0.037505\n",
       "COST    0.029869\n",
       "ISRG    0.038468\n",
       "JNJ     0.027512\n",
       "JPM     0.034075\n",
       "LMT     0.026325\n",
       "QCOM    0.037889\n",
       "dtype: float64"
      ]
     },
     "execution_count": 69,
     "metadata": {},
     "output_type": "execute_result"
    }
   ],
   "source": [
    "cva_historic(df_monthly_return, 5)\n",
    "#if the 5% chance happens, average loss is 4.4% for apple for a month"
   ]
  },
  {
   "cell_type": "code",
   "execution_count": 70,
   "metadata": {},
   "outputs": [],
   "source": [
    "def semideviation3(r):\n",
    "    \"\"\"\n",
    "    Returns the semideviation aka negative semideviation of r\n",
    "    r must be a Series or a DataFrame, else raises a TypeError\n",
    "    \"\"\"\n",
    "    excess= r-r.mean()                                        # We demean the returns\n",
    "    excess_negative = excess[excess<0]                        # We take only the returns below the mean\n",
    "    excess_negative_square = excess_negative**2               # We square the demeaned returns below the mean\n",
    "    n_negative = (excess<0).sum()                             # number of returns under the mean\n",
    "    return (excess_negative_square.sum()/n_negative)**0.5     # semideviation\n"
   ]
  },
  {
   "cell_type": "code",
   "execution_count": 71,
   "metadata": {},
   "outputs": [],
   "source": [
    "def annualized_vol(r, periods_per_year):\n",
    "    return r.std()*(periods_per_year**0.5)"
   ]
  },
  {
   "cell_type": "code",
   "execution_count": 72,
   "metadata": {},
   "outputs": [],
   "source": [
    "def annualized_return(r, periods_per_year):\n",
    "    compounded_growth=(1+r).prod()\n",
    "    n_periods=r.shape[0]\n",
    "    return compounded_growth**(periods_per_year/n_periods)-1"
   ]
  },
  {
   "cell_type": "code",
   "execution_count": 73,
   "metadata": {},
   "outputs": [
    {
     "data": {
      "text/plain": [
       "Ticker\n",
       "AAPL    0.003390\n",
       "ASML   -0.022578\n",
       "COST   -0.007006\n",
       "ISRG   -0.002877\n",
       "JNJ    -0.033273\n",
       "JPM    -0.049382\n",
       "LMT    -0.021024\n",
       "QCOM    0.006399\n",
       "dtype: float64"
      ]
     },
     "execution_count": 73,
     "metadata": {},
     "output_type": "execute_result"
    }
   ],
   "source": [
    "returns=annualized_return(df_monthly_return,12)\n",
    "returns"
   ]
  },
  {
   "cell_type": "code",
   "execution_count": 74,
   "metadata": {
    "scrolled": true
   },
   "outputs": [
    {
     "data": {
      "text/plain": [
       "Ticker\n",
       "AAPL    0.064756\n",
       "ASML    0.060285\n",
       "COST    0.044165\n",
       "ISRG    0.062016\n",
       "JNJ     0.034246\n",
       "JPM     0.047476\n",
       "LMT     0.046787\n",
       "QCOM    0.061469\n",
       "dtype: float64"
      ]
     },
     "execution_count": 74,
     "metadata": {},
     "output_type": "execute_result"
    }
   ],
   "source": [
    "vol=annualized_vol(df_monthly_return, 12)\n",
    "vol"
   ]
  },
  {
   "cell_type": "code",
   "execution_count": 75,
   "metadata": {},
   "outputs": [
    {
     "data": {
      "text/plain": [
       "Ticker\n",
       "AAPL   -0.400003\n",
       "ASML   -0.848855\n",
       "COST   -0.815522\n",
       "ISRG   -0.516030\n",
       "JNJ    -1.798137\n",
       "JPM    -1.627268\n",
       "LMT    -1.061407\n",
       "QCOM   -0.373744\n",
       "dtype: float64"
      ]
     },
     "execution_count": 75,
     "metadata": {},
     "output_type": "execute_result"
    }
   ],
   "source": [
    "rf_per_period=(1+0.03)**(1/12)-1\n",
    "excess_return=df_monthly_return-rf_per_period\n",
    "annual_excess_return=annualized_return(excess_return, 12)\n",
    "annual_vol=annualized_vol(df_monthly_return, 12)\n",
    "sp=annual_excess_return/annual_vol\n",
    "sp"
   ]
  },
  {
   "cell_type": "code",
   "execution_count": 76,
   "metadata": {},
   "outputs": [],
   "source": [
    "def sharp_ratio(r, riskfree_rate, periods_per_year):\n",
    "    rf_per_period=(1+riskfree_rate)**(1/periods_per_year)-1\n",
    "    excess_return=r-rf_per_period\n",
    "    annual_excess_return=annualized_return(excess_return, periods_per_year)\n",
    "    annual_vol=annualized_vol(r, periods_per_year)\n",
    "    return annual_excess_return/annual_vol"
   ]
  },
  {
   "cell_type": "code",
   "execution_count": 77,
   "metadata": {},
   "outputs": [
    {
     "data": {
      "text/plain": [
       "Ticker\n",
       "AAPL   -0.400003\n",
       "ASML   -0.848855\n",
       "COST   -0.815522\n",
       "ISRG   -0.516030\n",
       "JNJ    -1.798137\n",
       "JPM    -1.627268\n",
       "LMT    -1.061407\n",
       "QCOM   -0.373744\n",
       "dtype: float64"
      ]
     },
     "execution_count": 77,
     "metadata": {},
     "output_type": "execute_result"
    }
   ],
   "source": [
    "sp=sharp_ratio(df_monthly_return, 0.03, 12)\n",
    "sp"
   ]
  },
  {
   "cell_type": "markdown",
   "metadata": {},
   "source": [
    "# Efficient Frontier"
   ]
  },
  {
   "cell_type": "code",
   "execution_count": 78,
   "metadata": {},
   "outputs": [
    {
     "data": {
      "text/plain": [
       "(8, 8)"
      ]
     },
     "execution_count": 78,
     "metadata": {},
     "output_type": "execute_result"
    }
   ],
   "source": [
    "cov=df_monthly_return.cov()\n",
    "cov.shape"
   ]
  },
  {
   "cell_type": "code",
   "execution_count": 79,
   "metadata": {},
   "outputs": [
    {
     "data": {
      "text/html": [
       "<div>\n",
       "<style scoped>\n",
       "    .dataframe tbody tr th:only-of-type {\n",
       "        vertical-align: middle;\n",
       "    }\n",
       "\n",
       "    .dataframe tbody tr th {\n",
       "        vertical-align: top;\n",
       "    }\n",
       "\n",
       "    .dataframe thead th {\n",
       "        text-align: right;\n",
       "    }\n",
       "</style>\n",
       "<table border=\"1\" class=\"dataframe\">\n",
       "  <thead>\n",
       "    <tr style=\"text-align: right;\">\n",
       "      <th>Ticker</th>\n",
       "      <th>AAPL</th>\n",
       "      <th>ASML</th>\n",
       "      <th>COST</th>\n",
       "      <th>ISRG</th>\n",
       "      <th>JNJ</th>\n",
       "      <th>JPM</th>\n",
       "      <th>LMT</th>\n",
       "      <th>QCOM</th>\n",
       "    </tr>\n",
       "    <tr>\n",
       "      <th>Ticker</th>\n",
       "      <th></th>\n",
       "      <th></th>\n",
       "      <th></th>\n",
       "      <th></th>\n",
       "      <th></th>\n",
       "      <th></th>\n",
       "      <th></th>\n",
       "      <th></th>\n",
       "    </tr>\n",
       "  </thead>\n",
       "  <tbody>\n",
       "    <tr>\n",
       "      <th>AAPL</th>\n",
       "      <td>0.000349</td>\n",
       "      <td>0.000106</td>\n",
       "      <td>0.000074</td>\n",
       "      <td>0.000108</td>\n",
       "      <td>0.000041</td>\n",
       "      <td>0.000066</td>\n",
       "      <td>0.000042</td>\n",
       "      <td>0.000101</td>\n",
       "    </tr>\n",
       "    <tr>\n",
       "      <th>ASML</th>\n",
       "      <td>0.000106</td>\n",
       "      <td>0.000303</td>\n",
       "      <td>0.000099</td>\n",
       "      <td>0.000160</td>\n",
       "      <td>0.000073</td>\n",
       "      <td>0.000105</td>\n",
       "      <td>0.000076</td>\n",
       "      <td>0.000168</td>\n",
       "    </tr>\n",
       "    <tr>\n",
       "      <th>COST</th>\n",
       "      <td>0.000074</td>\n",
       "      <td>0.000099</td>\n",
       "      <td>0.000163</td>\n",
       "      <td>0.000075</td>\n",
       "      <td>0.000068</td>\n",
       "      <td>0.000061</td>\n",
       "      <td>0.000060</td>\n",
       "      <td>0.000071</td>\n",
       "    </tr>\n",
       "    <tr>\n",
       "      <th>ISRG</th>\n",
       "      <td>0.000108</td>\n",
       "      <td>0.000160</td>\n",
       "      <td>0.000075</td>\n",
       "      <td>0.000320</td>\n",
       "      <td>0.000078</td>\n",
       "      <td>0.000105</td>\n",
       "      <td>0.000050</td>\n",
       "      <td>0.000115</td>\n",
       "    </tr>\n",
       "    <tr>\n",
       "      <th>JNJ</th>\n",
       "      <td>0.000041</td>\n",
       "      <td>0.000073</td>\n",
       "      <td>0.000068</td>\n",
       "      <td>0.000078</td>\n",
       "      <td>0.000098</td>\n",
       "      <td>0.000064</td>\n",
       "      <td>0.000056</td>\n",
       "      <td>0.000051</td>\n",
       "    </tr>\n",
       "    <tr>\n",
       "      <th>JPM</th>\n",
       "      <td>0.000066</td>\n",
       "      <td>0.000105</td>\n",
       "      <td>0.000061</td>\n",
       "      <td>0.000105</td>\n",
       "      <td>0.000064</td>\n",
       "      <td>0.000188</td>\n",
       "      <td>0.000058</td>\n",
       "      <td>0.000073</td>\n",
       "    </tr>\n",
       "    <tr>\n",
       "      <th>LMT</th>\n",
       "      <td>0.000042</td>\n",
       "      <td>0.000076</td>\n",
       "      <td>0.000060</td>\n",
       "      <td>0.000050</td>\n",
       "      <td>0.000056</td>\n",
       "      <td>0.000058</td>\n",
       "      <td>0.000182</td>\n",
       "      <td>0.000038</td>\n",
       "    </tr>\n",
       "    <tr>\n",
       "      <th>QCOM</th>\n",
       "      <td>0.000101</td>\n",
       "      <td>0.000168</td>\n",
       "      <td>0.000071</td>\n",
       "      <td>0.000115</td>\n",
       "      <td>0.000051</td>\n",
       "      <td>0.000073</td>\n",
       "      <td>0.000038</td>\n",
       "      <td>0.000315</td>\n",
       "    </tr>\n",
       "  </tbody>\n",
       "</table>\n",
       "</div>"
      ],
      "text/plain": [
       "Ticker      AAPL      ASML      COST      ISRG       JNJ       JPM       LMT  \\\n",
       "Ticker                                                                         \n",
       "AAPL    0.000349  0.000106  0.000074  0.000108  0.000041  0.000066  0.000042   \n",
       "ASML    0.000106  0.000303  0.000099  0.000160  0.000073  0.000105  0.000076   \n",
       "COST    0.000074  0.000099  0.000163  0.000075  0.000068  0.000061  0.000060   \n",
       "ISRG    0.000108  0.000160  0.000075  0.000320  0.000078  0.000105  0.000050   \n",
       "JNJ     0.000041  0.000073  0.000068  0.000078  0.000098  0.000064  0.000056   \n",
       "JPM     0.000066  0.000105  0.000061  0.000105  0.000064  0.000188  0.000058   \n",
       "LMT     0.000042  0.000076  0.000060  0.000050  0.000056  0.000058  0.000182   \n",
       "QCOM    0.000101  0.000168  0.000071  0.000115  0.000051  0.000073  0.000038   \n",
       "\n",
       "Ticker      QCOM  \n",
       "Ticker            \n",
       "AAPL    0.000101  \n",
       "ASML    0.000168  \n",
       "COST    0.000071  \n",
       "ISRG    0.000115  \n",
       "JNJ     0.000051  \n",
       "JPM     0.000073  \n",
       "LMT     0.000038  \n",
       "QCOM    0.000315  "
      ]
     },
     "execution_count": 79,
     "metadata": {},
     "output_type": "execute_result"
    }
   ],
   "source": [
    "cov#The Covariance Matrix is a symmetric matrix with variances along the diagonal and the product of the pairwise correlation and the individual volatililites (i.e. the covariance) on the off-diagonal entries"
   ]
  },
  {
   "cell_type": "code",
   "execution_count": 80,
   "metadata": {},
   "outputs": [],
   "source": [
    "def portfolio_return(weights, returns):\n",
    "    return weights.T @ returns"
   ]
  },
  {
   "cell_type": "code",
   "execution_count": 81,
   "metadata": {},
   "outputs": [],
   "source": [
    "def portfolio_vol(weights, covmatrix):\n",
    "    return (weights.T @ covmatrix @ weights)**0.5"
   ]
  },
  {
   "cell_type": "code",
   "execution_count": 82,
   "metadata": {},
   "outputs": [
    {
     "data": {
      "text/plain": [
       "array([0.125, 0.125, 0.125, 0.125, 0.125, 0.125, 0.125, 0.125])"
      ]
     },
     "execution_count": 82,
     "metadata": {},
     "output_type": "execute_result"
    }
   ],
   "source": [
    "weights=np.repeat(1/8,8)\n",
    "weights"
   ]
  },
  {
   "cell_type": "code",
   "execution_count": 83,
   "metadata": {
    "scrolled": true
   },
   "outputs": [
    {
     "data": {
      "text/plain": [
       "-0.01579391793118501"
      ]
     },
     "execution_count": 83,
     "metadata": {},
     "output_type": "execute_result"
    }
   ],
   "source": [
    "portfolio_return(weights, returns)"
   ]
  },
  {
   "cell_type": "code",
   "execution_count": 84,
   "metadata": {},
   "outputs": [
    {
     "data": {
      "text/plain": [
       "0.010001168689498966"
      ]
     },
     "execution_count": 84,
     "metadata": {},
     "output_type": "execute_result"
    }
   ],
   "source": [
    "portfolio_vol(weights, cov)"
   ]
  },
  {
   "cell_type": "markdown",
   "metadata": {},
   "source": [
    "##2 Assets Frontier"
   ]
  },
  {
   "cell_type": "code",
   "execution_count": 85,
   "metadata": {},
   "outputs": [
    {
     "data": {
      "text/plain": [
       "[array([0., 1.]),\n",
       " array([0.05263158, 0.94736842]),\n",
       " array([0.10526316, 0.89473684]),\n",
       " array([0.15789474, 0.84210526]),\n",
       " array([0.21052632, 0.78947368]),\n",
       " array([0.26315789, 0.73684211]),\n",
       " array([0.31578947, 0.68421053]),\n",
       " array([0.36842105, 0.63157895]),\n",
       " array([0.42105263, 0.57894737]),\n",
       " array([0.47368421, 0.52631579]),\n",
       " array([0.52631579, 0.47368421]),\n",
       " array([0.57894737, 0.42105263]),\n",
       " array([0.63157895, 0.36842105]),\n",
       " array([0.68421053, 0.31578947]),\n",
       " array([0.73684211, 0.26315789]),\n",
       " array([0.78947368, 0.21052632]),\n",
       " array([0.84210526, 0.15789474]),\n",
       " array([0.89473684, 0.10526316]),\n",
       " array([0.94736842, 0.05263158]),\n",
       " array([1., 0.])]"
      ]
     },
     "execution_count": 85,
     "metadata": {},
     "output_type": "execute_result"
    }
   ],
   "source": [
    "l=['AAPL','COST']\n",
    "n_points=20\n",
    "weights=[np.array([w, 1-w]) for w in \n",
    "        np.linspace(0,1,n_points)]\n",
    "weights"
   ]
  },
  {
   "cell_type": "code",
   "execution_count": 86,
   "metadata": {},
   "outputs": [
    {
     "data": {
      "text/plain": [
       "20"
      ]
     },
     "execution_count": 86,
     "metadata": {},
     "output_type": "execute_result"
    }
   ],
   "source": [
    "len(weights)"
   ]
  },
  {
   "cell_type": "code",
   "execution_count": 87,
   "metadata": {},
   "outputs": [],
   "source": [
    "return_2assets=[portfolio_return(w, returns[l]) for w in weights]"
   ]
  },
  {
   "cell_type": "code",
   "execution_count": 88,
   "metadata": {},
   "outputs": [
    {
     "data": {
      "text/plain": [
       "[-0.0070060477451503456,\n",
       " -0.0064588712490805,\n",
       " -0.005911694753010654,\n",
       " -0.005364518256940807,\n",
       " -0.004817341760870961,\n",
       " -0.004270165264801115,\n",
       " -0.0037229887687312696,\n",
       " -0.0031758122726614226,\n",
       " -0.002628635776591577,\n",
       " -0.0020814592805217316,\n",
       " -0.0015342827844518846,\n",
       " -0.000987106288382038,\n",
       " -0.00043992979231219234,\n",
       " 0.00010724670375765293,\n",
       " 0.0006544231998274997,\n",
       " 0.001201599695897346,\n",
       " 0.0017487761919671916,\n",
       " 0.002295952688037037,\n",
       " 0.002843129184106884,\n",
       " 0.0033903056801767306]"
      ]
     },
     "execution_count": 88,
     "metadata": {},
     "output_type": "execute_result"
    }
   ],
   "source": [
    "return_2assets"
   ]
  },
  {
   "cell_type": "code",
   "execution_count": 89,
   "metadata": {},
   "outputs": [],
   "source": [
    "vol_2assets=[portfolio_vol(w, cov.loc[l,l]) for w in weights]"
   ]
  },
  {
   "cell_type": "code",
   "execution_count": 90,
   "metadata": {},
   "outputs": [
    {
     "data": {
      "text/plain": [
       "[0.012749380439824534,\n",
       " 0.012417483035384718,\n",
       " 0.012159856658942198,\n",
       " 0.011981293281413383,\n",
       " 0.011885356920249758,\n",
       " 0.011874050498691804,\n",
       " 0.01194761428346698,\n",
       " 0.012104501005196049,\n",
       " 0.012341533446065242,\n",
       " 0.01265420865614159,\n",
       " 0.013037085231111183,\n",
       " 0.013484184500021229,\n",
       " 0.013989350150569364,\n",
       " 0.014546533928641702,\n",
       " 0.015149997582055262,\n",
       " 0.015794437306618527,\n",
       " 0.016475045330025435,\n",
       " 0.01718752550884942,\n",
       " 0.017928078349493372,\n",
       " 0.0186933677862247]"
      ]
     },
     "execution_count": 90,
     "metadata": {},
     "output_type": "execute_result"
    }
   ],
   "source": [
    "vol_2assets"
   ]
  },
  {
   "cell_type": "code",
   "execution_count": 91,
   "metadata": {},
   "outputs": [
    {
     "data": {
      "text/plain": [
       "<AxesSubplot:xlabel='Vol', ylabel='R'>"
      ]
     },
     "execution_count": 91,
     "metadata": {},
     "output_type": "execute_result"
    },
    {
     "data": {
      "image/png": "[encoded data removed]",
      "text/plain": [
       "<Figure size 432x288 with 1 Axes>"
      ]
     },
     "metadata": {
      "needs_background": "light"
     },
     "output_type": "display_data"
    }
   ],
   "source": [
    "my_dict={\"R\":return_2assets, \"Vol\": vol_2assets}\n",
    "ef_2assets=pd.DataFrame(my_dict)\n",
    "ef_2assets.plot.scatter(x=\"Vol\",y=\"R\")"
   ]
  },
  {
   "cell_type": "code",
   "execution_count": 92,
   "metadata": {},
   "outputs": [],
   "source": [
    "def plot_ef2(n_points, r, cov):\n",
    "    if r.shape[0]!=2:\n",
    "        raise ValueError(\"plot_ef2 can only plot two asset frontiers\")\n",
    "    weights=[np.array([w,1-w]) for w in np.linspace(0,1,n_points)]\n",
    "    rets=[portfolio_return(w,r) for w in weights]\n",
    "    vols=[portfolio_vol(w, cov) for w in weights]\n",
    "    ef=pd.DataFrame(\n",
    "    {\n",
    "        \"Returns\": rets,\n",
    "        \"Volatility\": vols\n",
    "    })\n",
    "    return ef.plot.line(x=\"Volatility\",y=\"Returns\", style=\".-\")"
   ]
  },
  {
   "cell_type": "code",
   "execution_count": 93,
   "metadata": {},
   "outputs": [
    {
     "data": {
      "text/plain": [
       "<AxesSubplot:xlabel='Volatility'>"
      ]
     },
     "execution_count": 93,
     "metadata": {},
     "output_type": "execute_result"
    },
    {
     "data": {
      "image/png": "[encoded data removed]",
      "text/plain": [
       "<Figure size 432x288 with 1 Axes>"
      ]
     },
     "metadata": {
      "needs_background": "light"
     },
     "output_type": "display_data"
    }
   ],
   "source": [
    "plot_ef2(25, returns[l], cov.loc[l,l])"
   ]
  },
  {
   "cell_type": "code",
   "execution_count": 94,
   "metadata": {},
   "outputs": [],
   "source": [
    "from scipy.optimize import minimize"
   ]
  },
  {
   "cell_type": "code",
   "execution_count": 95,
   "metadata": {},
   "outputs": [],
   "source": [
    "def minimize_vol(target_return, r, cov):\n",
    "    n=r.shape[0] # get the number of assets\n",
    "    init_guess=np.repeat(1/n, n)\n",
    "    bounds=((0.0, 1),)*n #tuple of tuple and make it n copies of it\n",
    "    return_is_target={\n",
    "        'type':'eq',\n",
    "        'args':(r,),\n",
    "        'fun': lambda weights, r: target_return-portfolio_return(weights, r)\n",
    "    }\n",
    "    weights_sum_to_1={\n",
    "        'type':'eq',\n",
    "        'fun':lambda weights: np.sum(weights)-1\n",
    "    }\n",
    "    results=minimize(portfolio_vol, init_guess,\n",
    "                    args=(cov,), method='SLSQP',\n",
    "                     options={'disp': False},\n",
    "                     constraints=(return_is_target, weights_sum_to_1),\n",
    "                     bounds=bounds\n",
    "                    )\n",
    "    return results.x"
   ]
  },
  {
   "cell_type": "code",
   "execution_count": 96,
   "metadata": {},
   "outputs": [
    {
     "data": {
      "text/plain": [
       "((0.0, 1), (0.0, 1), (0.0, 1))"
      ]
     },
     "execution_count": 96,
     "metadata": {},
     "output_type": "execute_result"
    }
   ],
   "source": [
    "((0.0, 1),)*3"
   ]
  },
  {
   "cell_type": "code",
   "execution_count": 97,
   "metadata": {
    "scrolled": true
   },
   "outputs": [
    {
     "data": {
      "text/plain": [
       "0.0186933677862247"
      ]
     },
     "execution_count": 97,
     "metadata": {},
     "output_type": "execute_result"
    }
   ],
   "source": [
    "w15=minimize_vol(0.015, returns[l], cov.loc[l,l])\n",
    "vol15=portfolio_vol(w15, cov.loc[l,l])\n",
    "vol15"
   ]
  },
  {
   "cell_type": "code",
   "execution_count": 98,
   "metadata": {},
   "outputs": [
    {
     "data": {
      "text/plain": [
       "array([1., 0.])"
      ]
     },
     "execution_count": 98,
     "metadata": {},
     "output_type": "execute_result"
    }
   ],
   "source": [
    "w15"
   ]
  },
  {
   "cell_type": "code",
   "execution_count": 99,
   "metadata": {},
   "outputs": [],
   "source": [
    "def optimal_weights(n_points, r, cov):\n",
    "    target_returns=np.linspace(r.min(), r.max(), n_points)\n",
    "    weights=[minimize_vol(target_return, r, cov) for target_return in target_returns]\n",
    "    return weights"
   ]
  },
  {
   "cell_type": "code",
   "execution_count": 100,
   "metadata": {},
   "outputs": [],
   "source": [
    "def plot_ef(n_points, r, cov):\n",
    "    weights=optimal_weights(n_points, r, cov)\n",
    "    rets=[portfolio_return(w,r) for w in weights]\n",
    "    vols=[portfolio_vol(w, cov) for w in weights]\n",
    "    ef=pd.DataFrame(\n",
    "    {\n",
    "        \"Returns\": rets,\n",
    "        \"Volatility\": vols\n",
    "    })\n",
    "    return ef.plot.line(x=\"Volatility\",y=\"Returns\", style=\".-\")"
   ]
  },
  {
   "cell_type": "code",
   "execution_count": 101,
   "metadata": {},
   "outputs": [
    {
     "data": {
      "text/plain": [
       "<AxesSubplot:xlabel='Volatility'>"
      ]
     },
     "execution_count": 101,
     "metadata": {},
     "output_type": "execute_result"
    },
    {
     "data": {
      "image/png": "[encoded data removed]",
      "text/plain": [
       "<Figure size 432x288 with 1 Axes>"
      ]
     },
     "metadata": {
      "needs_background": "light"
     },
     "output_type": "display_data"
    }
   ],
   "source": [
    "plot_ef(100,returns,cov)"
   ]
  },
  {
   "cell_type": "markdown",
   "metadata": {},
   "source": [
    "# Max Sharp Ratio"
   ]
  },
  {
   "cell_type": "code",
   "execution_count": 102,
   "metadata": {},
   "outputs": [],
   "source": [
    "def max_sharp_ratio(riskfree_rate, r, cov):\n",
    "    n=r.shape[0] # get the number of assets\n",
    "    init_guess=np.repeat(1/n, n)\n",
    "    bounds=((0.0, 1),)*n #tuple of tuple and make it n copies of it\n",
    "    weights_sum_to_1={\n",
    "        'type':'eq',\n",
    "        'fun':lambda weights: np.sum(weights)-1\n",
    "    }\n",
    "    \n",
    "    def negative_sharp_ratio(weights, riskfree_rate, r, cov):\n",
    "        rtns=portfolio_return(weights, r)\n",
    "        vol=portfolio_vol(weights, cov)\n",
    "        return -(rtns-riskfree_rate)/vol\n",
    "    \n",
    "    results=minimize(negative_sharp_ratio, init_guess,\n",
    "                    args=(riskfree_rate, r, cov,), method='SLSQP',\n",
    "                     options={'disp': False},\n",
    "                     constraints=(weights_sum_to_1),\n",
    "                     bounds=bounds\n",
    "                    )\n",
    "    return results.x"
   ]
  },
  {
   "cell_type": "code",
   "execution_count": 103,
   "metadata": {},
   "outputs": [
    {
     "data": {
      "text/plain": [
       "[<matplotlib.lines.Line2D at 0x7f867a71d940>]"
      ]
     },
     "execution_count": 103,
     "metadata": {},
     "output_type": "execute_result"
    },
    {
     "data": {
      "image/png": "[encoded data removed]",
      "text/plain": [
       "<Figure size 432x288 with 1 Axes>"
      ]
     },
     "metadata": {
      "needs_background": "light"
     },
     "output_type": "display_data"
    }
   ],
   "source": [
    "ax=plot_ef(20,returns,cov)\n",
    "ax.set_xlim(left=0)\n",
    "rf=0.0015\n",
    "w_msr=max_sharp_ratio(rf, returns, cov)\n",
    "r_msr=portfolio_return(w_msr, returns)\n",
    "vol_msr=portfolio_vol(w_msr, cov)\n",
    "#add capital market line\n",
    "cml_x=[0, vol_msr]\n",
    "cml_y=[rf, r_msr]\n",
    "ax.plot(cml_x, cml_y, color='red', marker='o', linestyle='dashed')"
   ]
  },
  {
   "cell_type": "code",
   "execution_count": 104,
   "metadata": {},
   "outputs": [],
   "source": [
    "def plot_ef_cml(n_points, r, cov, show_cml=False, style='.-', riskfree_rate=0):\n",
    "    weights=optimal_weights(n_points, r, cov)\n",
    "    rets=[portfolio_return(w,r) for w in weights]\n",
    "    vols=[portfolio_vol(w, cov) for w in weights]\n",
    "    ef=pd.DataFrame(\n",
    "    {\n",
    "        \"Returns\": rets,\n",
    "        \"Volatility\": vols\n",
    "    })\n",
    "    ax=ef.plot.line(x=\"Volatility\",y=\"Returns\", style=\".-\")\n",
    "    if show_cml:\n",
    "        ax.set_xlim(left=0)\n",
    "        w_msr=max_sharp_ratio(riskfree_rate, returns, cov)\n",
    "        r_msr=portfolio_return(w_msr, returns)\n",
    "        vol_msr=portfolio_vol(w_msr, cov)\n",
    "        #add capital market line\n",
    "        cml_x=[0, vol_msr]\n",
    "        cml_y=[riskfree_rate, r_msr]\n",
    "        ax.plot(cml_x, cml_y, color='red', marker='o', linestyle='dashed', markersize=12, linewidth=2)\n",
    "    return ax"
   ]
  },
  {
   "cell_type": "code",
   "execution_count": 105,
   "metadata": {},
   "outputs": [
    {
     "data": {
      "text/plain": [
       "<AxesSubplot:xlabel='Volatility'>"
      ]
     },
     "execution_count": 105,
     "metadata": {},
     "output_type": "execute_result"
    },
    {
     "data": {
      "image/png": "[encoded data removed]",
      "text/plain": [
       "<Figure size 432x288 with 1 Axes>"
      ]
     },
     "metadata": {
      "needs_background": "light"
     },
     "output_type": "display_data"
    }
   ],
   "source": [
    "plot_ef_cml(20, returns, cov, show_cml=True, riskfree_rate=0.015)"
   ]
  },
  {
   "cell_type": "markdown",
   "metadata": {},
   "source": [
    "### Global minimum variance portfolio"
   ]
  },
  {
   "cell_type": "code",
   "execution_count": 106,
   "metadata": {},
   "outputs": [],
   "source": [
    "def gmv(cov):\n",
    "    \"\"\"\n",
    "    return the weights of GMV portfolio given covariance matrix\n",
    "    \"\"\"\n",
    "    n=cov.shape[0]\n",
    "    return max_sharp_ratio(0,np.repeat(1,n),cov)\n",
    "def plot_ef_cml_ew_gmv(n_points, r, cov, show_cml=False, style='.-', riskfree_rate=0, show_ew=False, show_gmv=False):\n",
    "    weights=optimal_weights(n_points, r, cov)\n",
    "    rets=[portfolio_return(w,r) for w in weights]\n",
    "    vols=[portfolio_vol(w, cov) for w in weights]\n",
    "    ef=pd.DataFrame(\n",
    "    {\n",
    "        \"Returns\": rets,\n",
    "        \"Volatility\": vols\n",
    "    })\n",
    "    ax=ef.plot.line(x=\"Volatility\",y=\"Returns\", style=\".-\")\n",
    "    if show_ew:\n",
    "        n=r.shape[0]\n",
    "        w_ew=np.repeat(1/n,n)\n",
    "        r_ew=portfolio_return(w_ew, r)\n",
    "        vol_ew=portfolio_vol(w_ew, cov)\n",
    "        #display EW\n",
    "        ax.plot([vol_ew],[r_ew], color='goldenrod', marker='x',markersize=10)\n",
    "    if show_gmv:\n",
    "        w_gmv=gmv(cov)\n",
    "        r_gmv=portfolio_return(w_gmv, r)\n",
    "        vol_gmv=portfolio_vol(w_gmv, cov)\n",
    "        #display GMV\n",
    "        ax.plot([vol_gmv],[r_gmv], color='midnightblue', marker='x',markersize=10)\n",
    "    if show_cml:\n",
    "        ax.set_xlim(left=0)\n",
    "        w_msr=max_sharp_ratio(riskfree_rate, returns, cov)\n",
    "        r_msr=portfolio_return(w_msr, returns)\n",
    "        vol_msr=portfolio_vol(w_msr, cov)\n",
    "        #add capital market line\n",
    "        cml_x=[0, vol_msr]\n",
    "        cml_y=[riskfree_rate, r_msr]\n",
    "        ax.plot(cml_x, cml_y, color='red', marker='o', linestyle='dashed', markersize=12, linewidth=2)\n",
    "    return ax"
   ]
  },
  {
   "cell_type": "code",
   "execution_count": 107,
   "metadata": {},
   "outputs": [
    {
     "data": {
      "text/plain": [
       "<AxesSubplot:xlabel='Volatility'>"
      ]
     },
     "execution_count": 107,
     "metadata": {},
     "output_type": "execute_result"
    },
    {
     "data": {
      "image/png": "[encoded data removed]",
      "text/plain": [
       "<Figure size 432x288 with 1 Axes>"
      ]
     },
     "metadata": {
      "needs_background": "light"
     },
     "output_type": "display_data"
    }
   ],
   "source": [
    "plot_ef_cml_ew_gmv(20, returns, cov, show_cml=True, riskfree_rate=0.015, show_ew=True)"
   ]
  },
  {
   "cell_type": "code",
   "execution_count": 108,
   "metadata": {},
   "outputs": [
    {
     "data": {
      "text/plain": [
       "<AxesSubplot:xlabel='Volatility'>"
      ]
     },
     "execution_count": 108,
     "metadata": {},
     "output_type": "execute_result"
    },
    {
     "data": {
      "image/png": "[encoded data removed]",
      "text/plain": [
       "<Figure size 432x288 with 1 Axes>"
      ]
     },
     "metadata": {
      "needs_background": "light"
     },
     "output_type": "display_data"
    }
   ],
   "source": [
    "plot_ef_cml_ew_gmv(20, returns, cov, show_cml=True, riskfree_rate=0.015, show_ew=True, show_gmv=True)"
   ]
  },
  {
   "cell_type": "markdown",
   "metadata": {},
   "source": [
    "### Rolling Correlation"
   ]
  },
  {
   "cell_type": "code",
   "execution_count": 109,
   "metadata": {},
   "outputs": [],
   "source": [
    "aapl_tr36returns=df_return['AAPL'].rolling(window=36).agg(annualized_return, periods_per_year=12)"
   ]
  },
  {
   "cell_type": "code",
   "execution_count": 110,
   "metadata": {},
   "outputs": [
    {
     "data": {
      "text/plain": [
       "<AxesSubplot:xlabel='Date'>"
      ]
     },
     "execution_count": 110,
     "metadata": {},
     "output_type": "execute_result"
    },
    {
     "data": {
      "image/png": "[encoded data removed]",
      "text/plain": [
       "<Figure size 864x432 with 1 Axes>"
      ]
     },
     "metadata": {
      "needs_background": "light"
     },
     "output_type": "display_data"
    }
   ],
   "source": [
    "aapl_tr36returns.plot(figsize=(12,6), label='36M Rolling Avg Return', legend=True)"
   ]
  },
  {
   "cell_type": "code",
   "execution_count": 111,
   "metadata": {},
   "outputs": [
    {
     "data": {
      "text/html": [
       "<div>\n",
       "<style scoped>\n",
       "    .dataframe tbody tr th:only-of-type {\n",
       "        vertical-align: middle;\n",
       "    }\n",
       "\n",
       "    .dataframe tbody tr th {\n",
       "        vertical-align: top;\n",
       "    }\n",
       "\n",
       "    .dataframe thead th {\n",
       "        text-align: right;\n",
       "    }\n",
       "</style>\n",
       "<table border=\"1\" class=\"dataframe\">\n",
       "  <thead>\n",
       "    <tr style=\"text-align: right;\">\n",
       "      <th></th>\n",
       "      <th>Ticker</th>\n",
       "      <th>AAPL</th>\n",
       "      <th>ASML</th>\n",
       "      <th>COST</th>\n",
       "      <th>ISRG</th>\n",
       "      <th>JNJ</th>\n",
       "      <th>JPM</th>\n",
       "      <th>LMT</th>\n",
       "      <th>QCOM</th>\n",
       "    </tr>\n",
       "    <tr>\n",
       "      <th>Date</th>\n",
       "      <th>Ticker</th>\n",
       "      <th></th>\n",
       "      <th></th>\n",
       "      <th></th>\n",
       "      <th></th>\n",
       "      <th></th>\n",
       "      <th></th>\n",
       "      <th></th>\n",
       "      <th></th>\n",
       "    </tr>\n",
       "  </thead>\n",
       "  <tbody>\n",
       "    <tr>\n",
       "      <th rowspan=\"5\" valign=\"top\">2023-01-24 00:00:00-05:00</th>\n",
       "      <th>ISRG</th>\n",
       "      <td>NaN</td>\n",
       "      <td>0.500216</td>\n",
       "      <td>0.311069</td>\n",
       "      <td>1.000000</td>\n",
       "      <td>0.586123</td>\n",
       "      <td>0.426632</td>\n",
       "      <td>0.256036</td>\n",
       "      <td>0.480453</td>\n",
       "    </tr>\n",
       "    <tr>\n",
       "      <th>JNJ</th>\n",
       "      <td>NaN</td>\n",
       "      <td>0.324080</td>\n",
       "      <td>0.289403</td>\n",
       "      <td>0.586123</td>\n",
       "      <td>1.000000</td>\n",
       "      <td>0.420231</td>\n",
       "      <td>0.363835</td>\n",
       "      <td>0.340978</td>\n",
       "    </tr>\n",
       "    <tr>\n",
       "      <th>JPM</th>\n",
       "      <td>NaN</td>\n",
       "      <td>0.546006</td>\n",
       "      <td>0.612931</td>\n",
       "      <td>0.426632</td>\n",
       "      <td>0.420231</td>\n",
       "      <td>1.000000</td>\n",
       "      <td>0.164123</td>\n",
       "      <td>0.463238</td>\n",
       "    </tr>\n",
       "    <tr>\n",
       "      <th>LMT</th>\n",
       "      <td>NaN</td>\n",
       "      <td>-0.059556</td>\n",
       "      <td>0.071690</td>\n",
       "      <td>0.256036</td>\n",
       "      <td>0.363835</td>\n",
       "      <td>0.164123</td>\n",
       "      <td>1.000000</td>\n",
       "      <td>0.231359</td>\n",
       "    </tr>\n",
       "    <tr>\n",
       "      <th>QCOM</th>\n",
       "      <td>NaN</td>\n",
       "      <td>0.821883</td>\n",
       "      <td>0.632826</td>\n",
       "      <td>0.480453</td>\n",
       "      <td>0.340978</td>\n",
       "      <td>0.463238</td>\n",
       "      <td>0.231359</td>\n",
       "      <td>1.000000</td>\n",
       "    </tr>\n",
       "  </tbody>\n",
       "</table>\n",
       "</div>"
      ],
      "text/plain": [
       "Ticker                            AAPL      ASML      COST      ISRG  \\\n",
       "Date                      Ticker                                       \n",
       "2023-01-24 00:00:00-05:00 ISRG     NaN  0.500216  0.311069  1.000000   \n",
       "                          JNJ      NaN  0.324080  0.289403  0.586123   \n",
       "                          JPM      NaN  0.546006  0.612931  0.426632   \n",
       "                          LMT      NaN -0.059556  0.071690  0.256036   \n",
       "                          QCOM     NaN  0.821883  0.632826  0.480453   \n",
       "\n",
       "Ticker                                 JNJ       JPM       LMT      QCOM  \n",
       "Date                      Ticker                                          \n",
       "2023-01-24 00:00:00-05:00 ISRG    0.586123  0.426632  0.256036  0.480453  \n",
       "                          JNJ     1.000000  0.420231  0.363835  0.340978  \n",
       "                          JPM     0.420231  1.000000  0.164123  0.463238  \n",
       "                          LMT     0.363835  0.164123  1.000000  0.231359  \n",
       "                          QCOM    0.340978  0.463238  0.231359  1.000000  "
      ]
     },
     "execution_count": 111,
     "metadata": {},
     "output_type": "execute_result"
    }
   ],
   "source": [
    "rolling_corr=df_return.rolling(window=36).corr()\n",
    "rolling_corr.tail()"
   ]
  },
  {
   "cell_type": "code",
   "execution_count": 112,
   "metadata": {},
   "outputs": [
    {
     "data": {
      "text/plain": [
       "FrozenList(['Date', 'Ticker'])"
      ]
     },
     "execution_count": 112,
     "metadata": {},
     "output_type": "execute_result"
    }
   ],
   "source": [
    "rolling_corr.index.names"
   ]
  },
  {
   "cell_type": "code",
   "execution_count": 113,
   "metadata": {
    "scrolled": true
   },
   "outputs": [
    {
     "data": {
      "text/plain": [
       "<AxesSubplot:xlabel='Date'>"
      ]
     },
     "execution_count": 113,
     "metadata": {},
     "output_type": "execute_result"
    },
    {
     "data": {
      "image/png": "[encoded data removed]",
      "text/plain": [
       "<Figure size 432x288 with 1 Axes>"
      ]
     },
     "metadata": {
      "needs_background": "light"
     },
     "output_type": "display_data"
    }
   ],
   "source": [
    "aapl_tr36corr=rolling_corr.groupby(level='Date').apply(\n",
    "lambda corrmatrix: corrmatrix.values.mean())\n",
    "aapl_tr36corr.plot()"
   ]
  },
  {
   "cell_type": "code",
   "execution_count": 114,
   "metadata": {},
   "outputs": [
    {
     "data": {
      "text/plain": [
       "<AxesSubplot:label='6510c5d8-6241-4661-9abc-47e331458a71'>"
      ]
     },
     "execution_count": 114,
     "metadata": {},
     "output_type": "execute_result"
    },
    {
     "data": {
      "image/png": "[encoded data removed]",
      "text/plain": [
       "<Figure size 864x432 with 2 Axes>"
      ]
     },
     "metadata": {
      "needs_background": "light"
     },
     "output_type": "display_data"
    }
   ],
   "source": [
    "aapl_tr36returns.plot(label='36M Rolling Return', figsize=(12,6), legend=True)\n",
    "aapl_tr36corr.plot(label='36M Rolling Correlation', legend=True, secondary_y=True)"
   ]
  },
  {
   "cell_type": "code",
   "execution_count": null,
   "metadata": {},
   "outputs": [],
   "source": []
  }
 ],
 "metadata": {
  "kernelspec": {
   "display_name": "Python 3",
   "language": "python",
   "name": "python3"
  },
  "language_info": {
   "codemirror_mode": {
    "name": "ipython",
    "version": 3
   },
   "file_extension": ".py",
   "mimetype": "text/x-python",
   "name": "python",
   "nbconvert_exporter": "python",
   "pygments_lexer": "ipython3",
   "version": "3.8.5"
  }
 },
 "nbformat": 4,
 "nbformat_minor": 4
}
